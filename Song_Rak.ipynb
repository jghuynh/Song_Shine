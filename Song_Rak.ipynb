{
 "cells": [
  {
   "cell_type": "code",
   "execution_count": 4,
   "metadata": {},
   "outputs": [],
   "source": [
    "import spotipy # don't forget to write: pip install spotipy on gitbash or cmd or whatever\n",
    "from spotipy.oauth2 import SpotifyClientCredentials\n",
    "import json\n",
    "import pandas as pd"
   ]
  },
  {
   "cell_type": "code",
   "execution_count": 3,
   "metadata": {},
   "outputs": [],
   "source": [
    "# Parse JSON\n",
    "data = {\n",
    "    \"clientID\" : \"bc9f3e2fa5994153b808dec97aadb7c8\",\n",
    "    \"clientSecret\" : \"ffb21ad5ba2d486ba533d42aa4091892\" \n",
    "}\n",
    "with open('authorization.json', 'w') as outfile:\n",
    "    json.dump(data, outfile)"
   ]
  },
  {
   "cell_type": "code",
   "execution_count": 7,
   "metadata": {},
   "outputs": [
    {
     "data": {
      "text/plain": [
       "{'clientID': 'bc9f3e2fa5994153b808dec97aadb7c8',\n",
       " 'clientSecret': 'ffb21ad5ba2d486ba533d42aa4091892'}"
      ]
     },
     "execution_count": 7,
     "metadata": {},
     "output_type": "execute_result"
    }
   ],
   "source": [
    "# Reading JSON file as a dataframe\n",
    "# clients = pd.read_json(\"authorization.json\")\n",
    "\n",
    "# Reading JSON file\n",
    "# Python Parsing JSON \n",
    "with open('authorization.json') as json_file:\n",
    "    data = json.load(json_file)\n",
    "data"
   ]
  }
 ],
 "metadata": {
  "kernelspec": {
   "display_name": "Python 3",
   "language": "python",
   "name": "python3"
  },
  "language_info": {
   "codemirror_mode": {
    "name": "ipython",
    "version": 3
   },
   "file_extension": ".py",
   "mimetype": "text/x-python",
   "name": "python",
   "nbconvert_exporter": "python",
   "pygments_lexer": "ipython3",
   "version": "3.8.5"
  }
 },
 "nbformat": 4,
 "nbformat_minor": 4
}
